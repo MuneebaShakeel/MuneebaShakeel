{
  "nbformat": 4,
  "nbformat_minor": 0,
  "metadata": {
    "colab": {
      "provenance": [],
      "authorship_tag": "ABX9TyNpmlaH+lmGVpAuG5OvjV92",
      "include_colab_link": true
    },
    "kernelspec": {
      "name": "python3",
      "display_name": "Python 3"
    },
    "language_info": {
      "name": "python"
    }
  },
  "cells": [
    {
      "cell_type": "markdown",
      "metadata": {
        "id": "view-in-github",
        "colab_type": "text"
      },
      "source": [
        "<a href=\"https://colab.research.google.com/github/MuneebaShakeel/MuneebaShakeel/blob/main/OTPcipher.ipynb\" target=\"_parent\"><img src=\"https://colab.research.google.com/assets/colab-badge.svg\" alt=\"Open In Colab\"/></a>"
      ]
    },
    {
      "cell_type": "code",
      "source": [
        "# syntax for OTP cipher\n",
        "import random\n",
        "def one_time_pad(message):\n",
        "    key = ''.join(chr(random.randint(0, 255)) for _ in range(len(message)))\n",
        "    encrypted_message = ''.join(chr(ord(m) ^ ord(k)) for m, k in zip(message, key))\n",
        "    decrypted_message = ''.join(chr(ord(em) ^ ord(k)) for em, k in zip(encrypted_message, key))\n",
        "    print(encrypted_message, decrypted_message)"
      ],
      "metadata": {
        "id": "dMRp-gclq7Ro"
      },
      "execution_count": 10,
      "outputs": []
    },
    {
      "cell_type": "code",
      "source": [
        "import random\n",
        "\n",
        "message = \"Hello, World!\"\n",
        "key = ''.join(chr(random.randint(0, 255)) for _ in range(len(message)))\n",
        "\n",
        "encrypted_message = ''.join(chr(ord(m) ^ ord(k)) for m, k in zip(message, key))\n",
        "decrypted_message = ''.join(chr(ord(em) ^ ord(k)) for em, k in zip(encrypted_message, key))\n",
        "\n",
        "print(\"Original Message:\", message)\n",
        "print(\"Key:\", key)\n",
        "print(\"Encrypted Message:\", encrypted_message)\n",
        "print(\"decryptrd Message:\", decrypted_message)\n"
      ],
      "metadata": {
        "colab": {
          "base_uri": "https://localhost:8080/"
        },
        "id": "rorc13Shx0gH",
        "outputId": "72b24f69-2b96-4e70-8164-3544cd8d4158"
      },
      "execution_count": 20,
      "outputs": [
        {
          "output_type": "stream",
          "name": "stdout",
          "text": [
            "Original Message: Hello, World!\n",
            "Key: ÀÉÙ&+\fÇêº>\\\n",
            "Encrypted Message: ó¥ï¶\n",
            "\u000b[¨ÖZ}\n",
            "decryptrd Message: Hello, World!\n"
          ]
        }
      ]
    }
  ]
}